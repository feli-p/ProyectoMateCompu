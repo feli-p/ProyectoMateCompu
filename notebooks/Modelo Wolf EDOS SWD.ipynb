{
 "cells": [
  {
   "cell_type": "code",
   "execution_count": 21,
   "metadata": {},
   "outputs": [],
   "source": [
    "import numpy as np\n",
    "import matplotlib.pyplot as plt"
   ]
  },
  {
   "cell_type": "markdown",
   "metadata": {},
   "source": [
    "\n",
    "$$ \n",
    "\\dot{S} = d − aSW − cS\n",
    "$$\n",
    "$$\n",
    "\\dot{W} = e +aSZ + bW\n",
    "$$\n",
    "$$\n",
    "\\dot{D} = bSW+ cS\n",
    "$$\n",
    "\n"
   ]
  },
  {
   "cell_type": "code",
   "execution_count": 22,
   "metadata": {},
   "outputs": [],
   "source": [
    "def euler(y, t, dt, derivadas):\n",
    "    y_next = y + derivadas(y, t)*dt\n",
    "    return y_next\n",
    "def bModel(estado, sistema):\n",
    "    w0 = d-a*estado[0]*estado[1]-c*estado[0] \n",
    "    w1 = e +a*estado[0]*estado[1] + b*estado[1]\n",
    "    w2 = b*estado[0]*estado[1]+c*estado[0]\n",
    "    return np.array([w0, w1,w2])"
   ]
  },
  {
   "cell_type": "code",
   "execution_count": 23,
   "metadata": {},
   "outputs": [],
   "source": [
    "a ,b,c,d,e= 0.09,0.01,0.05,1.9,0.2\n",
    "s0,w0,d0 = 5000,2.0,0.0\n",
    "N, tau = 1000,10.0 \n",
    "time,dt = np.linspace(0, tau, N),tau/(float)(N-1)\n",
    "y = np.zeros([N,3])\n",
    "y[0,0],y[0,1],y[0,2] = 500,1,0\n",
    "for j in range(N-1):y[j+1] = euler(y[j], time[j], dt, bModel)\n",
    "gente ,wolf  ,dead  = [y[j,0] for j in range(N)],[y[j,1] for j in range(N)],[y[j,2] for j in range(N)]"
   ]
  },
  {
   "cell_type": "code",
   "execution_count": 24,
   "metadata": {},
   "outputs": [
    {
     "data": {
      "text/plain": [
       "Text(0.5, 1.0, 'Modelo Hombre Lobo')"
      ]
     },
     "execution_count": 24,
     "metadata": {},
     "output_type": "execute_result"
    },
    {
     "data": {
      "image/png": "[encoded data removed]",
      "text/plain": [
       "<Figure size 432x288 with 1 Axes>"
      ]
     },
     "metadata": {
      "needs_background": "light"
     },
     "output_type": "display_data"
    }
   ],
   "source": [
    "plt.plot(time+1, gente, label=\"Susceptibles\", color = 'pink')\n",
    "plt.plot(time+1.1, wolf, label=\"Muertes\", color = 'red')\n",
    "plt.plot(time+.8, dead, label=\"Hombres Lobo\", color = 'blue')\n",
    "plt.xlabel(\"tiempo\")\n",
    "plt.ylabel(\"Población\")\n",
    "plt.legend(loc=\"best\")\n",
    "plt.title(\"Modelo Hombre Lobo\")"
   ]
  }
 ],
 "metadata": {
  "kernelspec": {
   "display_name": "Python 3",
   "language": "python",
   "name": "python3"
  },
  "language_info": {
   "codemirror_mode": {
    "name": "ipython",
    "version": 3
   },
   "file_extension": ".py",
   "mimetype": "text/x-python",
   "name": "python",
   "nbconvert_exporter": "python",
   "pygments_lexer": "ipython3",
   "version": "3.8.5"
  }
 },
 "nbformat": 4,
 "nbformat_minor": 4
}
